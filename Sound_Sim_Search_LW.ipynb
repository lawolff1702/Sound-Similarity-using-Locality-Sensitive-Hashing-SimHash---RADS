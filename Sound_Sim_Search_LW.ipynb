{
 "cells": [
  {
   "cell_type": "markdown",
   "metadata": {},
   "source": [
    "Sound Similarity using Locality Sensitive Hashing (SimHash)\n",
    "\n",
    "Author: Lukka Wolff\n",
    "\n",
    "Professor: Teal Witter\n",
    "\n",
    "Course: CSCI 1052: Randomized Algorithms for Data Science\n",
    "\n",
    "Date: 02/02/2024"
   ]
  },
  {
   "cell_type": "code",
   "execution_count": 1,
   "metadata": {},
   "outputs": [],
   "source": [
    "import math\n",
    "import os\n",
    "import librosa\n",
    "import numpy as np\n",
    "from scipy.signal import find_peaks\n",
    "from IPython.display import Audio\n",
    "import hashlib\n",
    "import matplotlib.pyplot as plt"
   ]
  },
  {
   "cell_type": "code",
   "execution_count": 2,
   "metadata": {},
   "outputs": [
    {
     "name": "stdout",
     "output_type": "stream",
     "text": [
      "Bands: 3\n",
      "Tables: 8\n",
      "\n"
     ]
    }
   ],
   "source": [
    "# Optimization of r (bands) and t (tables) values for the given upper and lower bounds (based on historgram)\n",
    "\n",
    "upperbound = 0.5\n",
    "lowerbound = 0.3\n",
    "U_theta = math.acos(upperbound)\n",
    "L_theta = math.acos(lowerbound)\n",
    "\n",
    "def find_r_by_t(U_theta, L_theta):\n",
    "    for t in range(1,1000001):\n",
    "        r = math.floor( math.log((1 - ((1/10) ** (1/t))), (1 - (U_theta / math.pi))) ) \n",
    "        if (1 - ((1 - (L_theta ** r)) ** t)) <= 0.1:\n",
    "            print(f\"Bands: {r}\\nTables: {t}\\n\")\n",
    "            break\n",
    "\n",
    "\n",
    "find_r_by_t(U_theta, L_theta)"
   ]
  },
  {
   "cell_type": "code",
   "execution_count": 3,
   "metadata": {},
   "outputs": [],
   "source": [
    "tables = 8 # number of tables\n",
    "bands = 3 # number of bands (r)\n",
    "integer_list = list(range(tables))\n",
    "m = 50000 # number of sounds (buckets)\n",
    "\n",
    "\n",
    "def create_fingerprint(audio_file):\n",
    "    \"\"\"Makes binary vector fingerprint from audio file\"\"\"\n",
    "\n",
    "    # Load the audio file\n",
    "    audio, sr = librosa.load(audio_file, sr=None)\n",
    "\n",
    "    # Pad the audio signal if necessary\n",
    "    if len(audio) < 2048:\n",
    "        audio = np.pad(audio, (0, 2048 - len(audio)))\n",
    "\n",
    "    # Compute the spectrogram\n",
    "    spectrogram = np.abs(librosa.stft(audio))\n",
    "\n",
    "    # Initialize an empty list to store the peaks\n",
    "    peaks = []\n",
    "\n",
    "    # Find the peaks in each row of the spectrogram\n",
    "    for row in spectrogram:\n",
    "        peaks_row, _ = find_peaks(row)\n",
    "        peaks.append(peaks_row)\n",
    "\n",
    "    # Convert the peaks to a binary vector\n",
    "    fingerprint = np.zeros_like(spectrogram)\n",
    "    for i, peaks_row in enumerate(peaks):\n",
    "        fingerprint[i, peaks_row] = 1\n",
    "\n",
    "    # Flatten the binary vector\n",
    "    fingerprint = fingerprint.flatten()\n",
    "\n",
    "    # Pad the fingerprint with zeros if necessary\n",
    "    if len(fingerprint) < 75000:\n",
    "        fingerprint = np.pad(fingerprint, (0, 75000 - len(fingerprint)))\n",
    "    if len(fingerprint) > 75000:\n",
    "        fingerprint = fingerprint[:75000]\n",
    "\n",
    "    return fingerprint\n",
    "\n"
   ]
  },
  {
   "cell_type": "code",
   "execution_count": 4,
   "metadata": {},
   "outputs": [],
   "source": [
    "def get_binary_vectors(directory):\n",
    "    # Initialize an empty dictionary to store the binary vectors\n",
    "    binary_vec_dict = {}\n",
    "\n",
    "    for dirpath, dirnames, filenames in os.walk(directory):\n",
    "        # Iterate over the list of files\n",
    "        for file in filenames:\n",
    "            # Create the binary vector\n",
    "            if file.endswith(\".wav\") or file.endswith(\".mp3\"):\n",
    "                audio_path = os.path.join(dirpath, file)\n",
    "                binary_vec = create_fingerprint(audio_path)\n",
    "\n",
    "                binary_vec_dict[file] = binary_vec\n",
    "\n",
    "    return binary_vec_dict\n",
    "\n"
   ]
  },
  {
   "cell_type": "code",
   "execution_count": 5,
   "metadata": {},
   "outputs": [],
   "source": [
    "def hash_tuple_with_seed(tuple_object, m, seed):\n",
    "  \"\"\"\n",
    "  Hashes a tuple object to an integer between 1 and m using a seed. TABLE - T\n",
    "\n",
    "  Args:\n",
    "    tuple_object: The tuple object to hash.\n",
    "    m: The upper bound of the hash value (inclusive).\n",
    "    seed: The seed for the hash function.\n",
    "\n",
    "  Returns:\n",
    "    An integer between 1 and m.\n",
    "  \"\"\"\n",
    "\n",
    "  # Convert the tuple object to a string.\n",
    "  tuple_string = str(tuple_object)\n",
    "\n",
    "  # Create a hash object with the specified seed.\n",
    "  hash_object = hashlib.sha256(str(seed).encode('utf-8'))\n",
    "\n",
    "  # Update the hash object with the tuple string.\n",
    "  hash_object.update(tuple_string.encode('utf-8'))\n",
    "\n",
    "  # Get the hash value as a hexadecimal string.\n",
    "  hash_value = hash_object.hexdigest()\n",
    "\n",
    "  # Convert the hexadecimal string to an integer.\n",
    "  hash_value_int = int(hash_value, 16)\n",
    "\n",
    "  # Return the hash value modulo m.\n",
    "  return hash_value_int % m + 1\n",
    "\n"
   ]
  },
  {
   "cell_type": "code",
   "execution_count": 6,
   "metadata": {},
   "outputs": [],
   "source": [
    "# Create dataset of binary vectors\n",
    "\n",
    "#directory = \"C:/Users/lukka/OneDrive/Desktop/J-Term 3/FINAL/small pack with duplicates\"\n",
    "directory = \"C:/Users/lukka/OneDrive/Desktop/FL Packs/@kyd.and.cambria - YeatxKanKan DrumxLoopKit\"\n",
    "#directory = \"C:/Users/lukka/OneDrive/Desktop/FL Packs/TriSamples - 808 Trapstep Pack Vol 2\"\n",
    "binary_vec_dict = get_binary_vectors(directory)"
   ]
  },
  {
   "cell_type": "code",
   "execution_count": 7,
   "metadata": {},
   "outputs": [],
   "source": [
    "# Convert binary vector dictionary into two separate lists (to be improved)\n",
    "\n",
    "binary_vec_list = []\n",
    "sound_name_list = []\n",
    "for name, vec in binary_vec_dict.items():\n",
    "    binary_vec_list.append(vec)\n",
    "    sound_name_list.append(name)\n"
   ]
  },
  {
   "cell_type": "code",
   "execution_count": 8,
   "metadata": {},
   "outputs": [],
   "source": [
    "# SimHash Matrix function\n",
    "\n",
    "d = 75000 # length of binary vector\n",
    "Gs = {}\n",
    "# creates Gs matrix to speed up making the SimHash tuple\n",
    "for t_idx in integer_list:\n",
    "    np.random.seed(t_idx)\n",
    "    Gs[t_idx] = np.random.normal(size=(d, bands))\n"
   ]
  },
  {
   "cell_type": "code",
   "execution_count": 9,
   "metadata": {},
   "outputs": [],
   "source": [
    "# Create Hash Table\n",
    "\n",
    "hash_table = {}\n",
    "for i in range(tables):\n",
    "    hash_table[i] = {}\n",
    "    \n",
    "# Fill the hash tables / buckets with vectors indeces to be able to search for similar sounds\n",
    "\n",
    "for vec_idx, binary_vec in enumerate(binary_vec_dict.values()):\n",
    "    for t_idx in integer_list:\n",
    "        simhash_tuple = np.sign(binary_vec @ Gs[t_idx])\n",
    "        bucket = hash_tuple_with_seed(simhash_tuple, m, t_idx)\n",
    "        if bucket not in hash_table[t_idx]:\n",
    "            hash_table[t_idx][bucket] = []\n",
    "        hash_table[t_idx][bucket].append(vec_idx)"
   ]
  },
  {
   "cell_type": "code",
   "execution_count": 10,
   "metadata": {},
   "outputs": [
    {
     "name": "stdout",
     "output_type": "stream",
     "text": [
      "{2442: [0, 1, 2, 3, 6, 8, 9, 11, 13, 16, 17, 20, 21, 24, 25, 30, 31, 32, 47, 52, 56, 68, 71, 78, 79, 84, 90, 91, 92, 94, 95, 97, 100, 105, 107, 108, 109, 115, 116, 118, 122, 144, 146, 153, 156, 159], 34494: [4, 10, 15, 18, 22, 23, 34, 44, 46, 48, 49, 50, 62, 70, 75, 76, 77, 83, 85, 89, 93, 102, 103, 106, 112, 117, 128, 142, 148, 152, 158], 9795: [5, 12, 27, 28, 40, 42, 45, 59, 63, 66, 80, 86, 87, 114, 129, 132, 135, 141, 150, 151], 35384: [7, 33, 35, 36, 37, 38, 43, 51, 54, 55, 61, 64, 72, 82, 98, 104, 111, 121, 124, 133, 145, 147, 155, 157, 160], 5625: [14, 19, 53, 60, 69, 73, 81, 88, 99, 113, 119, 143, 154, 161], 25789: [26, 58, 101, 110, 123, 125, 126, 137, 138, 139], 28430: [29, 74, 96, 120, 127, 134, 149], 27878: [39, 41, 57, 65, 67, 130, 131, 136, 140]}\n",
      "{47452: [0, 2, 4, 7, 40, 48, 54, 57, 65, 73, 78, 88, 96, 105, 114, 117, 143, 148, 154], 22240: [1, 3, 9, 10, 12, 13, 15, 16, 17, 18, 19, 21, 23, 24, 25, 26, 27, 29, 31, 32, 33, 44, 45, 52, 53, 64, 71, 92, 100, 101, 112, 116, 118, 121, 128, 139, 141, 146, 156, 157, 159], 6657: [5, 103, 107, 144, 147, 150], 18623: [6, 14, 36, 39, 41, 59, 60, 66, 67, 69, 70, 74, 84, 86, 90, 104, 111, 115, 123, 126, 136, 137, 138, 140, 145, 160, 161], 48069: [8, 22, 37, 42, 43, 55, 61, 63, 68, 72, 76, 77, 95, 97, 122, 125], 40302: [11, 20, 28, 30, 34, 46, 49, 58, 62, 75, 81, 85, 89, 91, 93, 94, 106, 108, 119, 120, 127, 129, 130, 131, 132, 135, 142, 149, 151, 152, 153, 155, 158], 39679: [35, 38, 47, 56, 80, 87, 98, 99, 102, 109, 113, 124, 133, 134], 10718: [50, 51, 79, 82, 83, 110]}\n",
      "{361: [0, 6, 34, 36, 40, 46, 58, 61, 63, 84, 85, 87, 90, 94, 101, 114, 118, 124, 125, 129, 132, 141, 153], 27033: [1, 15, 17, 30, 44, 47, 49, 54, 66, 68, 69, 70, 82, 86, 106, 107, 133, 157], 41459: [2, 43, 62, 64, 65, 71, 72, 96, 97, 98, 99, 113, 120, 140, 143, 150], 37062: [3, 5, 10, 12, 20, 21, 22, 23, 24, 25, 31, 32, 35, 38, 45, 50, 52, 75, 78, 79, 83, 88, 89, 92, 105, 108, 109, 112, 117, 119, 130, 131, 134, 135, 137, 146, 152, 155, 156, 161], 22379: [4, 7, 8, 9, 13, 14, 18, 53, 60, 74, 91, 100, 102, 110, 123, 147, 148, 149], 8069: [11, 19, 26, 28, 37, 39, 42, 57, 59, 73, 77, 80, 81, 103, 115, 116, 126, 136, 160], 22326: [16, 27, 33, 55, 76, 93, 121, 122, 127, 139, 144, 151, 154, 159], 44737: [29, 41, 48, 51, 56, 67, 95, 104, 111, 128, 138, 142, 145, 158]}\n",
      "{19144: [0, 8, 13, 17, 18, 24, 30, 36, 56, 62, 67, 68, 73, 74, 75, 76, 77, 87, 90, 94, 96, 98, 101, 104, 109, 114, 120, 121, 125, 128, 129, 133, 138, 139, 140, 141, 142, 145, 152, 154, 158], 4660: [1, 12, 31, 33, 44, 49, 57, 58, 65, 70, 85, 97, 107, 110, 115, 135, 146, 153], 30532: [2, 4, 5, 7, 9, 19, 20, 26, 29, 40, 50, 63, 78, 84, 86, 89, 91, 99, 113, 116, 117, 118, 119, 126, 127, 132, 137, 148, 150, 151], 10165: [3, 25, 28, 45, 48, 55, 59, 79, 88, 92, 102, 105, 106, 112, 136, 144], 26222: [6, 32, 35, 38, 46, 81], 35948: [10, 23, 27, 37, 42, 54, 69, 71, 80, 100, 130, 131, 134, 143, 147, 149, 157, 159, 160], 13022: [11, 16, 34, 82, 103, 123, 156], 24456: [14, 15, 21, 22, 39, 41, 43, 47, 51, 52, 53, 60, 61, 64, 66, 72, 83, 93, 95, 108, 111, 122, 124, 155, 161]}\n",
      "{16407: [0, 3, 7, 10, 15, 16, 31, 41, 44, 47, 49, 64, 65, 67, 83, 84, 102, 113, 114, 118, 123, 125, 129, 137, 156, 157, 159], 23522: [1, 2, 4, 5, 9, 11, 12, 13, 17, 19, 21, 24, 25, 27, 30, 32, 34, 37, 45, 52, 54, 79, 85, 87, 88, 92, 94, 97, 103, 108, 111, 112, 116, 119, 140, 148, 149, 151, 155, 160, 161], 24001: [6, 8, 14, 18, 22, 23, 28, 36, 48, 50, 70, 74, 82, 91, 106, 109, 117, 120, 126, 127, 132, 150, 153], 26520: [20, 39, 40, 56, 58, 59, 60, 63, 72, 75, 89, 99, 105, 134, 136, 144, 146, 147, 152, 158], 12667: [26, 42, 43, 51, 57, 69, 73, 81, 90, 96, 110, 115, 130, 131, 135, 154], 2433: [29, 55, 66, 77, 78, 86, 100, 104, 143], 25565: [33, 46, 62, 76, 80, 93, 107, 124, 138], 20517: [35, 38, 53, 61, 68, 71, 95, 98, 101, 121, 122, 128, 133, 139, 141, 142, 145]}\n",
      "{4651: [0, 9, 17, 19, 71, 107, 108, 117, 125, 126, 135, 142, 145, 149], 13831: [1, 21, 34, 50, 69, 82, 83, 94, 103, 115, 119, 120, 134, 138, 141, 147, 157], 29281: [2, 12, 25, 31, 33, 37, 44, 55, 56, 57, 66, 72, 78, 84, 88, 91, 102, 105, 109, 113, 114, 124, 127, 129, 144], 18506: [3, 4, 6, 10, 14, 15, 23, 26, 27, 28, 35, 38, 39, 43, 62, 65, 70, 73, 79, 86, 97, 104, 106, 118, 132, 143, 148, 150, 153, 154, 155, 156], 27048: [5, 11, 24, 42, 46, 48, 53, 54, 58, 60, 67, 76, 81, 87, 89, 95, 121, 128, 136, 146, 151, 152], 41030: [7, 8, 16, 18, 20, 22, 32, 51, 52, 59, 61, 68, 75, 77, 98, 101, 116, 130, 131, 133, 140, 158, 159], 19235: [13, 40, 41, 47, 49, 64, 74, 80, 85, 90, 92, 99, 100, 111, 112, 122, 160], 24151: [29, 30, 36, 45, 63, 93, 96, 110, 123, 137, 139, 161]}\n",
      "{33007: [0, 10, 16, 35, 38, 54, 80, 95, 114], 41316: [1, 7, 8, 13, 14, 15, 17, 20, 22, 23, 24, 25, 29, 31, 32, 34, 43, 45, 46, 49, 53, 56, 59, 62, 63, 70, 77, 81, 83, 84, 90, 92, 103, 107, 108, 112, 116, 120, 127, 129, 146, 150, 151, 153, 154, 155, 157, 158, 159, 160, 161], 13926: [2, 3, 4, 5, 11, 18, 19, 21, 27, 30, 36, 39, 41, 52, 57, 61, 64, 65, 71, 72, 82, 88, 91, 93, 100, 102, 104, 105, 117, 118, 130, 131, 138, 156], 16534: [6, 42, 44, 50, 67, 68, 75, 98, 101, 106, 109, 115, 119, 122, 123, 128, 133, 135, 136, 137, 142, 145, 147], 27225: [9, 12, 26, 37, 40, 47, 69, 78, 87, 110, 148, 149], 38412: [28, 48, 60, 74, 86, 94, 111, 113, 126, 132, 139, 140, 143, 152], 40595: [33, 51, 55, 76, 85, 89, 96, 99, 121, 141, 144], 42495: [58, 66, 73, 79, 97, 124, 125, 134]}\n",
      "{22372: [0, 4, 20, 27, 28, 39, 70, 71, 83, 93, 95, 96, 98, 103, 109, 113, 116, 118, 119, 126, 128, 134, 144, 147, 161], 43440: [1, 2, 3, 5, 6, 7, 10, 11, 14, 17, 31, 33, 34, 35, 38, 40, 52, 54, 55, 59, 61, 68, 76, 80, 81, 85, 86, 88, 100, 102, 108, 110, 112, 114, 117, 123, 124, 137, 139, 145, 148, 149, 150, 152, 154, 155, 157, 158, 160], 19186: [8, 18, 91, 97, 111, 127, 142], 32758: [9, 26, 32, 44, 47, 49, 57, 64, 66, 67, 82, 87, 105, 107, 132, 133, 140, 141, 146, 159], 3700: [12, 15, 19, 45, 50, 78, 101, 115, 122, 138, 151, 156], 37561: [13, 16, 21, 23, 24, 25, 29, 30, 36, 37, 41, 42, 43, 46, 48, 51, 53, 63, 65, 69, 72, 73, 77, 79, 84, 90, 92, 94, 106, 120, 121, 129, 130, 131, 135, 136, 143, 153], 1342: [22, 58, 74, 125], 49072: [56, 60, 62, 75, 89, 99, 104]}\n"
     ]
    }
   ],
   "source": [
    "# Look at cool tables :)\n",
    "\n",
    "for i in range(tables):\n",
    "    print(hash_table[i])"
   ]
  },
  {
   "cell_type": "code",
   "execution_count": 11,
   "metadata": {},
   "outputs": [],
   "source": [
    "# Return the duplicates from all the tables (all similar sounds from all buckets in all tables in their resopective bins)\n",
    "\n",
    "final_hash = {}\n",
    "\n",
    "for vec_idx, binary_vec in enumerate(binary_vec_dict.values()):\n",
    "    for t_idx in integer_list:\n",
    "        simhash_tuple = np.sign(binary_vec @ Gs[t_idx])\n",
    "        bucket = hash_tuple_with_seed(simhash_tuple, m, t_idx)\n",
    "        if vec_idx not in final_hash:\n",
    "            final_hash[vec_idx] = []\n",
    "        for idx in hash_table[t_idx][bucket]:\n",
    "            final_hash[vec_idx].append(idx)\n",
    "\n",
    "for i in final_hash:\n",
    "    final_hash[i] = set(final_hash[i])"
   ]
  },
  {
   "cell_type": "code",
   "execution_count": 12,
   "metadata": {},
   "outputs": [
    {
     "data": {
      "image/png": "[encoded data removed]",
      "text/plain": [
       "<Figure size 640x480 with 1 Axes>"
      ]
     },
     "metadata": {},
     "output_type": "display_data"
    }
   ],
   "source": [
    "def cosine_similarity(vec1, vec2):\n",
    "    \"\"\" Determines the cosine similarity between two vectors \"\"\"\n",
    "    dot_product = np.dot(vec1, vec2)\n",
    "    norm_vec1 = np.linalg.norm(vec1)\n",
    "    norm_vec2 = np.linalg.norm(vec2)\n",
    "    return dot_product / (norm_vec1 * norm_vec2)\n",
    "\n",
    "# Creates histogram of Cosine Similarity between First Sound and All Other Sounds in Dataset\n",
    "\n",
    "hist_list = []\n",
    "for i in range(len(binary_vec_list)):\n",
    "    comp = binary_vec_list[0]\n",
    "    hist_list.append(cosine_similarity(comp,binary_vec_list[i]))\n",
    "    \n",
    "plt.hist(hist_list, bins=100)\n",
    "plt.xlabel('Cosine Similarity')\n",
    "plt.ylabel('Frequency')\n",
    "plt.title('Histogram of Cosine Similarity between First Sound and All Other Sounds in Dataset')\n",
    "plt.show()"
   ]
  },
  {
   "cell_type": "code",
   "execution_count": 13,
   "metadata": {},
   "outputs": [],
   "source": [
    "# Unused in SimHash implementation\n",
    "\n",
    "def binary_jaccard_similarity(vec1, vec2):\n",
    "    \"\"\" Defines the Jaccard Similarity between two binary vectors \"\"\"\n",
    "    \"computes the jaccard similarity for two binary vectors\"\n",
    "    intersection = sum([i == 1 and j == 1 for i, j in zip(vec1, vec2)])\n",
    "    union = sum([i == 1 or j == 1 for i, j in zip(vec1, vec2)])\n",
    "\n",
    "    return intersection / union"
   ]
  },
  {
   "cell_type": "code",
   "execution_count": 14,
   "metadata": {},
   "outputs": [],
   "source": [
    "def calculate_all_cosine_sims(final_hash):\n",
    "    # Return the cosine similarity for all pairs of similar binary vectors\n",
    "    similarities = {}\n",
    "    for vec_idx, similar_vec_indices in final_hash.items():\n",
    "        for i in range(len(similar_vec_indices)):\n",
    "            for j in range(i+1, len(similar_vec_indices)):\n",
    "                idx1, idx2 = list(similar_vec_indices)[i], list(similar_vec_indices)[j]\n",
    "                vec1, vec2 = binary_vec_list[idx1], binary_vec_list[idx2]\n",
    "                nm1, nm2 = sound_name_list[idx1], sound_name_list[idx2]\n",
    "                \n",
    "                if (nm1, nm2) in similarities or (nm2, nm1) in similarities:\n",
    "                    continue\n",
    "                similarity = cosine_similarity(vec1, vec2)\n",
    "\n",
    "                # Only appends names that have above 0.5 cosine similarity\n",
    "                if similarity > 0.5:\n",
    "                    similarities[(nm1, nm2)] = similarity\n",
    "    return similarities\n",
    "\n",
    "cos = calculate_all_cosine_sims(final_hash)"
   ]
  },
  {
   "cell_type": "code",
   "execution_count": 15,
   "metadata": {},
   "outputs": [
    {
     "data": {
      "text/plain": [
       "{('Clean Chant.wav', 'My Fav Chant.wav'): 1.0,\n",
       " ('Basic Trap Clap .wav', 'Go To Yeat Clap 1.wav'): 0.5693484,\n",
       " ('YeatxKan Hat 3.wav', 'YeatxKan Hat 4.wav'): 0.5872212,\n",
       " ('Go To Snare 3.wav', 'Go To Snare 4.wav'): 0.5597797,\n",
       " ('Go To Snare 3.wav', 'Uh Huh Snare.wav'): 0.5346267,\n",
       " ('Go To Snare 4.wav', 'Uh Huh Snare.wav'): 0.6612502,\n",
       " ('High Up There Snare.wav', 'Jackpot Snare.wav'): 0.9999999,\n",
       " ('Click Hat.wav', 'YeatxKan Hat 3.wav'): 0.5318401,\n",
       " ('Click Hat.wav', 'YeatxKan Hat 4.wav'): 0.5007596}"
      ]
     },
     "execution_count": 15,
     "metadata": {},
     "output_type": "execute_result"
    }
   ],
   "source": [
    "cos"
   ]
  }
 ],
 "metadata": {
  "kernelspec": {
   "display_name": "Python 3",
   "language": "python",
   "name": "python3"
  },
  "language_info": {
   "codemirror_mode": {
    "name": "ipython",
    "version": 3
   },
   "file_extension": ".py",
   "mimetype": "text/x-python",
   "name": "python",
   "nbconvert_exporter": "python",
   "pygments_lexer": "ipython3",
   "version": "3.11.3"
  }
 },
 "nbformat": 4,
 "nbformat_minor": 2
}
